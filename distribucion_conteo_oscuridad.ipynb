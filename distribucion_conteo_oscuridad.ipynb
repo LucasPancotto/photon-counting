{
 "cells": [
  {
   "cell_type": "code",
   "execution_count": 2,
   "id": "87a7f95a",
   "metadata": {},
   "outputs": [],
   "source": [
    "import pandas as pd\n",
    "import os \n",
    "import matplotlib.pyplot as plt\n",
    "import numpy as np\n",
    "import math\n",
    "\n",
    "from scipy.special import gammaln\n",
    "\n",
    "from scipy.signal import find_peaks\n",
    "#%matplotlib qt5\n",
    "%matplotlib inline\n",
    "from scipy.signal import argrelmin\n",
    "\n",
    "from scipy.optimize import curve_fit\n",
    "from scipy.special import factorial\n",
    "from scipy.stats import poisson\n",
    "from sklearn.metrics import r2_score\n",
    "\n",
    "def smoothTriangle(data, degree):\n",
    "    triangle=np.concatenate((np.arange(degree + 1), np.arange(degree)[::-1])) # up then down\n",
    "    smoothed=[]\n",
    "\n",
    "    for i in range(degree, len(data) - degree * 2):\n",
    "        point=data[i:i + len(triangle)] * triangle\n",
    "        smoothed.append(np.sum(point)/np.sum(triangle))\n",
    "    # Handle boundaries\n",
    "    smoothed=[smoothed[0]]*int(degree + degree/2) + smoothed\n",
    "    while len(smoothed) < len(data):\n",
    "        smoothed.append(smoothed[-1])\n",
    "    return smoothed\n",
    "\n",
    "\n",
    "\n",
    "\n",
    "\n",
    "\n",
    "def minimos_locales(dfg , degree , smooth =  False):\n",
    "    \n",
    "    if smooth == False:\n",
    "        t = np.array(dfg.t) \n",
    "        v = np.array(dfg.v) \n",
    "    elif smooth == True:\n",
    "        t = smoothTriangle(np.array(dfg.t) ,  degree)\n",
    "        v = smoothTriangle(np.array(dfg.v) ,  degree)\n",
    "\n",
    "    dv_dt=(np.diff(v ) )/ (np.diff(t ) )\n",
    "\n",
    "    a = dv_dt * np.roll(dv_dt , 1)\n",
    "\n",
    "    tmins = np.argwhere(a < 0)\n",
    "\n",
    "\n",
    "\n",
    "    return tmins\n",
    "\n",
    "\n",
    "def filtro_peaks(peaks_ar , ancho_campana):\n",
    "    peaks_ar_ =  peaks_ar.reshape((1,len(peaks_ar)))[0].tolist()\n",
    "    #busca picos con distancia mayor a 260 entre ellos\n",
    "    singular_peaks = np.argwhere(np.diff(peaks_ar_) > ancho_campana).reshape((1 , len(np.argwhere(np.diff(peaks_ar_) > ancho_campana))))\n",
    "    \n",
    "    return peaks_ar[singular_peaks]\n",
    "\n",
    "import seaborn as sns\n",
    "sns.set_style('whitegrid')\n",
    "\n",
    "umbral_v = 0.00197 #this comes from estimating the end of the noise distribution and the start of photon counts in the signal\n"
   ]
  },
  {
   "cell_type": "markdown",
   "id": "df75f885",
   "metadata": {},
   "source": [
    "# bring in lab measurments "
   ]
  },
  {
   "cell_type": "code",
   "execution_count": 50,
   "id": "2cb02b1b",
   "metadata": {},
   "outputs": [
    {
     "data": {
      "text/plain": [
       "10000"
      ]
     },
     "execution_count": 50,
     "metadata": {},
     "output_type": "execute_result"
    }
   ],
   "source": [
    "#bring in signals from lab measurments\n",
    "\n",
    "frames = os.listdir('25nanoseg_6vreal') \n",
    "len(frames)"
   ]
  },
  {
   "cell_type": "code",
   "execution_count": 54,
   "id": "a41bda35",
   "metadata": {},
   "outputs": [
    {
     "name": "stderr",
     "output_type": "stream",
     "text": [
      "C:\\Users\\lucas\\AppData\\Local\\Temp/ipykernel_984/3484057293.py:12: RuntimeWarning: invalid value encountered in true_divide\n",
      "  dv_dt=(np.diff(v ) )/ (np.diff(t ) )\n"
     ]
    },
    {
     "data": {
      "text/plain": [
       "10000"
      ]
     },
     "execution_count": 54,
     "metadata": {},
     "output_type": "execute_result"
    }
   ],
   "source": [
    "dist_eventos2  =  []\n",
    "\n",
    "for frame in frames:\n",
    "    if frame.endswith('.txt'): \n",
    "        frame_df = pd.read_csv(f'25nanoseg_6vreal/{frame}')\n",
    "        \n",
    "        signal = np.array(frame_df.v)\n",
    "        peaks_ar = minimos_locales(frame_df , 50 , smooth = True) #locate peaks\n",
    "        singular_peaks_ar=  filtro_peaks(peaks_ar , 150)[0] #filter peaks\n",
    "        peaks = signal[singular_peaks_ar]\n",
    "\n",
    "        cantidad_eventos_frame = (peaks < - umbral_v  ).sum() #using 'umbral_v' to discriminate noise from photon counts\n",
    "\n",
    "        dist_eventos2.append(cantidad_eventos_frame)\n",
    "        \n",
    "\n",
    "df_eventos= pd.Series(dist_eventos2)\n",
    "len(df_eventos)\n"
   ]
  },
  {
   "cell_type": "markdown",
   "id": "38b62a40",
   "metadata": {},
   "source": [
    "# plot histogram for the amount of photon counts in one oscilloscope screen"
   ]
  },
  {
   "cell_type": "code",
   "execution_count": 5,
   "id": "5524ba4e",
   "metadata": {},
   "outputs": [
    {
     "data": {
      "image/png": "[encoded data removed]",
      "text/plain": [
       "<Figure size 720x504 with 1 Axes>"
      ]
     },
     "metadata": {},
     "output_type": "display_data"
    }
   ],
   "source": [
    "plt.figure(figsize = (10,7))\n",
    "\n",
    "n , bins, patches = plt.hist(df_eventos , bins = int(len(df_eventos.unique())), alpha= 0.6 , density = True );\n",
    "plt.xlabel('numero de sucesos en un intervalo de integración')\n",
    "plt.ylabel('cantidad de ocurrencias')\n",
    "\n",
    "count, division = np.histogram(df_eventos ,bins = int(len(df_eventos.unique())) +1, density = True)\n"
   ]
  },
  {
   "cell_type": "code",
   "execution_count": 7,
   "id": "b3eba2e9",
   "metadata": {},
   "outputs": [
    {
     "name": "stdout",
     "output_type": "stream",
     "text": [
      "[0 1 2]\n",
      "[0.883 0.109 0.008]\n"
     ]
    }
   ],
   "source": [
    "#saving histogram data as variables\n",
    "x_numero_eventos = np.array(df_eventos.value_counts(normalize=True).sort_index().index.to_numpy())\n",
    "y_cantidad = np.array(df_eventos.value_counts(normalize=True).sort_index().values)\n"
   ]
  },
  {
   "cell_type": "markdown",
   "id": "978a7d26",
   "metadata": {},
   "source": [
    "# poisson with curve fit\n",
    "\n",
    "here we use curvefit to fit data to a Poisson distribution"
   ]
  },
  {
   "cell_type": "code",
   "execution_count": 8,
   "id": "2766082a",
   "metadata": {},
   "outputs": [],
   "source": [
    "\n",
    "#Poisson distribution function\n",
    "#probability mass function, lamda = E[x] = var[x]\n",
    "#p(x = k) = lamda**k * exp(-lamda) / k!\n",
    "\n",
    "def pois(k , lamb):\n",
    "    return ( lamb**np.array(k) ) * np.exp(- lamb) / factorial(np.array(k))\n"
   ]
  },
  {
   "cell_type": "code",
   "execution_count": 9,
   "id": "37b5112f",
   "metadata": {},
   "outputs": [
    {
     "name": "stdout",
     "output_type": "stream",
     "text": [
      "lambda poisson  [0.12403065]\n",
      "error poisson  [0.00082557]\n",
      "r2  0.9999958667747971\n"
     ]
    }
   ],
   "source": [
    "#fitting data\n",
    "params, cov = curve_fit(pois, x_numero_eventos, y_cantidad )\n",
    "\n",
    "perr = np.sqrt(np.diag(cov))\n",
    "\n",
    "r2 = r2_score(y_cantidad ,  pois(x_numero_eventos , params[0]))\n",
    "print('lambda poisson ' ,params)\n",
    "print('error poisson ' , perr)\n",
    "\n",
    "print('r2 ', r2)"
   ]
  },
  {
   "cell_type": "code",
   "execution_count": 11,
   "id": "e0dee6dd",
   "metadata": {
    "scrolled": true
   },
   "outputs": [
    {
     "data": {
      "text/plain": [
       "<matplotlib.legend.Legend at 0x15fefb82520>"
      ]
     },
     "execution_count": 11,
     "metadata": {},
     "output_type": "execute_result"
    },
    {
     "data": {
      "image/png": "[encoded data removed]",
      "text/plain": [
       "<Figure size 720x504 with 1 Axes>"
      ]
     },
     "metadata": {},
     "output_type": "display_data"
    }
   ],
   "source": [
    "#plotting data with fit\n",
    "plt.figure(figsize = (10,7))\n",
    "plt.xlabel('numero de sucesos en un intervalo de integración')\n",
    "plt.ylabel('cantidad de ocurrencias')\n",
    "\n",
    "plt.scatter(x_numero_eventos, y_cantidad , label = 'Mediciones' , s = 100 , alpha = 0.7)\n",
    "n , bins, patches = plt.hist(df_eventos , bins = int(len(df_eventos.unique()) ), alpha= 0.6 , density = True );\n",
    "plt.scatter(x_numero_eventos, pois(x_numero_eventos , params[0]) , label = 'Fit' ,s = 100 , marker = 'x' , color = 'green' , )\n",
    "plt.plot(np.arange(0 , len(x_numero_eventos) , 0.1), pois(np.arange(0 , len(x_numero_eventos) , 0.1) , params[0]) , label = 'Fit' , color = 'green' , )\n",
    "\n",
    "plt.legend()\n"
   ]
  },
  {
   "cell_type": "markdown",
   "id": "4bfb134f",
   "metadata": {},
   "source": [
    "# using scipy \n",
    "another aproach for fitting data to a Poisson distribution: use the scipy functions for the Poisson distribution.\n",
    "The MLE of the Poisson parameter is the sample mean."
   ]
  },
  {
   "cell_type": "code",
   "execution_count": 37,
   "id": "974bf4ac",
   "metadata": {},
   "outputs": [
    {
     "data": {
      "text/plain": [
       "<matplotlib.legend.Legend at 0x1a37d357ee0>"
      ]
     },
     "execution_count": 37,
     "metadata": {},
     "output_type": "execute_result"
    },
    {
     "data": {
      "image/png": "[encoded data removed]",
      "text/plain": [
       "<Figure size 720x504 with 1 Axes>"
      ]
     },
     "metadata": {
      "needs_background": "light"
     },
     "output_type": "display_data"
    }
   ],
   "source": [
    "from scipy.stats import poisson\n",
    "\n",
    "guess = sum(x_numero_eventos*y_cantidad) #estimation of expected value for the distribution\n",
    "pois_probs = poisson.pmf(x_numero_eventos, mu=guess) #generate Poisson distribution with guess\n",
    "\n",
    "plt.figure(figsize = (10,7))\n",
    "\n",
    "n , bins, patches = plt.hist(df_eventos , bins = int(len(df_eventos.unique())) , alpha= 0.6 , density = True );\n",
    "plt.xlabel('numero de sucesos en un intervalo de integración')\n",
    "plt.ylabel('cantidad de ocurrencias') \n",
    "\n",
    "plt.plot((x_numero_eventos)  , pois_probs, label = f'Poisson distribution \\n lambda = {round(guess ,2)}')\n",
    "\n",
    "plt.legend()\n"
   ]
  },
  {
   "cell_type": "markdown",
   "id": "262c9c7b",
   "metadata": {},
   "source": [
    "# Bose-Einstein con curve fit\n",
    "\n",
    "fitting data to a Bose-Einstein distribution\n"
   ]
  },
  {
   "cell_type": "code",
   "execution_count": 29,
   "id": "2817544e",
   "metadata": {},
   "outputs": [],
   "source": [
    "def bose( k , lamda):\n",
    "    return ( lamda**k )/ ( 1  + lamda )**(1 + k)"
   ]
  },
  {
   "cell_type": "code",
   "execution_count": 30,
   "id": "2f9f7987",
   "metadata": {},
   "outputs": [
    {
     "name": "stdout",
     "output_type": "stream",
     "text": [
      "lambda bose  [0.13530709]\n",
      "error bose   [0.00460372]\n",
      "r2  0.9999098985305952\n"
     ]
    }
   ],
   "source": [
    "paramsbose, covbose = curve_fit(bose, x_numero_eventos, y_cantidad)\n",
    "\n",
    "perrbose = np.sqrt(np.diag(covbose))\n",
    "\n",
    "r2bose = r2_score(y_cantidad ,  bose(x_numero_eventos , paramsbose[0]))\n",
    "print('lambda bose ' , paramsbose)\n",
    "print('error bose  ',perrbose)\n",
    "\n",
    "print('r2 ', r2bose)"
   ]
  },
  {
   "cell_type": "code",
   "execution_count": 31,
   "id": "f3677c99",
   "metadata": {},
   "outputs": [
    {
     "data": {
      "text/plain": [
       "<matplotlib.legend.Legend at 0x1a37d186fa0>"
      ]
     },
     "execution_count": 31,
     "metadata": {},
     "output_type": "execute_result"
    },
    {
     "data": {
      "image/png": "[encoded data removed]",
      "text/plain": [
       "<Figure size 720x504 with 1 Axes>"
      ]
     },
     "metadata": {
      "needs_background": "light"
     },
     "output_type": "display_data"
    }
   ],
   "source": [
    "plt.figure(figsize = (10,7))\n",
    "plt.xlabel('numero de sucesos en un intervalo de integración')\n",
    "plt.ylabel('cantidad de ocurrencias')\n",
    "\n",
    "\n",
    "plt.scatter(x_numero_eventos, y_cantidad , label = 'Mediciones' , s = 100 , alpha = 0.7)\n",
    "plt.scatter(x_numero_eventos, bose(x_numero_eventos , paramsbose[0]) , label = 'Fit' ,s = 100 , marker = 'x' , color = 'green' , )\n",
    "\n",
    "plt.plot(np.arange(0 , 6,0.1), bose(np.arange(0 , 6,0.1) , paramsbose[0]) , alpha = 0.3, color = 'g')\n",
    "\n",
    "plt.hist(df_eventos , bins = 6 , density = True , alpha = 0.2);\n",
    "\n",
    "\n",
    "plt.legend()"
   ]
  },
  {
   "cell_type": "code",
   "execution_count": null,
   "id": "990d9314",
   "metadata": {},
   "outputs": [],
   "source": []
  }
 ],
 "metadata": {
  "kernelspec": {
   "display_name": "Python 3 (ipykernel)",
   "language": "python",
   "name": "python3"
  },
  "language_info": {
   "codemirror_mode": {
    "name": "ipython",
    "version": 3
   },
   "file_extension": ".py",
   "mimetype": "text/x-python",
   "name": "python",
   "nbconvert_exporter": "python",
   "pygments_lexer": "ipython3",
   "version": "3.9.7"
  }
 },
 "nbformat": 4,
 "nbformat_minor": 5
}
