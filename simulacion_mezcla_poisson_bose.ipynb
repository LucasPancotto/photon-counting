{
 "cells": [
  {
   "cell_type": "code",
   "execution_count": 36,
   "id": "8ef11060",
   "metadata": {},
   "outputs": [],
   "source": [
    "import numpy as np\n",
    "import matplotlib.pyplot as plt\n",
    "import seaborn as sns\n",
    "import math\n",
    "from scipy.special import factorial\n",
    "\n",
    "from scipy.stats import poisson\n",
    "\n",
    "import pandas as pd\n",
    "\n",
    "sns.set_style('whitegrid')"
   ]
  },
  {
   "cell_type": "markdown",
   "id": "63b61af6",
   "metadata": {},
   "source": [
    "# metropolis \n"
   ]
  },
  {
   "cell_type": "code",
   "execution_count": 12,
   "id": "5b945d7a",
   "metadata": {},
   "outputs": [],
   "source": [
    "\n",
    "\n",
    "def uniform_selection(X):\n",
    "    return X[np.random.randint(0 , len(X))]\n",
    "    \n",
    "    \n",
    "def bose( k , lamda = 0.71955125):\n",
    "    return ( lamda**k )/ ( 1  + lamda )**(1 + k)\n",
    "\n",
    "\n",
    "def pois(x, mu = 0.12403065):\n",
    "    return poisson.pmf(x, mu=mu)\n",
    "\n",
    "#metropolis sampler simulates a random sampling from an arbitrary distribution (p)\n",
    "def metropolis_sampler(p, nsamples, X, x0 = 1):\n",
    "    x = x0 # start somewhere\n",
    "    \n",
    "    samples = []\n",
    "\n",
    "    for i in range(nsamples):\n",
    "        trial = uniform_selection(X) # random neighbour from the proposal distribution\n",
    "        acceptance = p(trial)/p(x)\n",
    "\n",
    "        # accept the move conditionally\n",
    "        if np.random.uniform() < acceptance:\n",
    "            x = trial\n",
    "\n",
    "        samples.append(x)\n",
    "    return samples"
   ]
  },
  {
   "cell_type": "code",
   "execution_count": 28,
   "id": "80649d91",
   "metadata": {},
   "outputs": [
    {
     "data": {
      "text/plain": [
       "Text(0.5, 1.0, 'histograma de datos reales para integración de 25ns')"
      ]
     },
     "execution_count": 28,
     "metadata": {},
     "output_type": "execute_result"
    },
    {
     "data": {
      "image/png": "[encoded data removed]",
      "text/plain": [
       "<Figure size 864x216 with 2 Axes>"
      ]
     },
     "metadata": {},
     "output_type": "display_data"
    }
   ],
   "source": [
    "#bring data for 25ns 6v\n",
    "df =pd.read_csv('resultados/25ns_6v/25ns_6v_conteo.txt')['0']\n",
    "\n",
    "#Bose-Einstein simulation\n",
    "\n",
    "X = np.arange(0,6)\n",
    "\n",
    "f , ax = plt.subplots(nrows = 1 , ncols = 2, figsize = (12,3))\n",
    "\n",
    "ax[0].hist(metropolis_sampler(bose , 100000 ,X, 1) , bins= len(X)) #\n",
    "ax[1].hist(df , bins = len(df.unique()))\n",
    "\n",
    "ax[0].set_title('simulacion distribución Bose: mu=  0.72')\n",
    "ax[1].set_title('histograma de datos reales para integración de 25ns')\n",
    "#"
   ]
  },
  {
   "cell_type": "code",
   "execution_count": 128,
   "id": "969fe655",
   "metadata": {
    "scrolled": false
   },
   "outputs": [
    {
     "data": {
      "text/plain": [
       "Text(0.5, 1.0, 'conteo de oscuridad')"
      ]
     },
     "execution_count": 128,
     "metadata": {},
     "output_type": "execute_result"
    },
    {
     "data": {
      "image/png": "[encoded data removed]",
      "text/plain": [
       "<Figure size 864x216 with 2 Axes>"
      ]
     },
     "metadata": {},
     "output_type": "display_data"
    }
   ],
   "source": [
    "#dark occurences data\n",
    "df_osc =pd.read_csv('resultados/conteo_oscuridad_50ohm/conteo_oscuridad_50ohm.txt')['0']\n",
    "\n",
    "#Poisson simulation\n",
    "\n",
    "X = np.arange(0,3)\n",
    "samples = metropolis_sampler(pois , 10000 , X, 1)\n",
    "\n",
    "f , ax = plt.subplots(nrows = 1 , ncols = 2, figsize = (12,3))\n",
    "\n",
    "ax[0].hist(samples , bins = len(X) , density = True )\n",
    "\n",
    "ax[1].hist(df_osc , bins = len(X) , density = True )\n",
    "\n",
    "ax[0].set_title('simulacion conteo oscuridad')\n",
    "ax[1].set_title('conteo de oscuridad')\n"
   ]
  },
  {
   "cell_type": "markdown",
   "id": "aac3a059",
   "metadata": {},
   "source": [
    "# metropolis sampler for 2 distributions \n",
    "this time, there maybe a sum of dark occurences and bose occurences. \n",
    "in this sampler, we simulate a mixture of 'dark' photon counts and 'true' photon counts."
   ]
  },
  {
   "cell_type": "code",
   "execution_count": 86,
   "id": "24ed8d6a",
   "metadata": {},
   "outputs": [],
   "source": [
    "def bose( x , lamda = 0.71955125):\n",
    "    return ( lamda**x )/ ( 1  + lamda )**(1 + x)\n",
    "\n",
    "def poisson(x , lamb = 0.12403065):\n",
    "    return ( lamb**np.array(x) ) * np.exp(- lamb) / factorial(np.array(x))\n"
   ]
  },
  {
   "cell_type": "code",
   "execution_count": 121,
   "id": "79525e54",
   "metadata": {},
   "outputs": [],
   "source": [
    "def metropolis_sampler3(p1 , p2, nsamples, X1, X2,  x0 = 1, x02= 1):\n",
    "    x1 = x0 # start somewhere\n",
    "    x2 = x02\n",
    "    \n",
    "    samples = []\n",
    "\n",
    "    for i in range(nsamples):\n",
    "        trial1 = uniform_selection(X1) # random neighbour from the proposal distribution1\n",
    "        trial2 = uniform_selection(X2) # random neighbour from the proposal distribution2\n",
    "        \n",
    "        acceptance1 = p1(trial1)/p1(x1) #acceptance prob depending on  distribution1\n",
    "        acceptance2 = p2(trial2)/p2(x2) #acceptance prob depending on  distribution2\n",
    "\n",
    "        # accept the move conditionally\n",
    "        if np.random.uniform() < acceptance1:\n",
    "            x1 = trial1\n",
    "        if np.random.uniform() < acceptance2:\n",
    "            x2 = trial2\n",
    "        \n",
    "        if x1 ==0:#accept the possibility of a dark occurance only if there are no true occurences\n",
    "            x =  x1+x2 #the total sample is the sum of dark and bose occurences\n",
    "        else:\n",
    "            x = x1\n",
    "\n",
    "        samples.append(x)\n",
    "    return samples"
   ]
  },
  {
   "cell_type": "code",
   "execution_count": 133,
   "id": "d37e48c4",
   "metadata": {},
   "outputs": [
    {
     "data": {
      "text/plain": [
       "Text(0.5, 1.0, 'histograma de datos reales para integración de 25ns')"
      ]
     },
     "execution_count": 133,
     "metadata": {},
     "output_type": "execute_result"
    },
    {
     "data": {
      "image/png": "[encoded data removed]",
      "text/plain": [
       "<Figure size 864x216 with 2 Axes>"
      ]
     },
     "metadata": {},
     "output_type": "display_data"
    }
   ],
   "source": [
    "X1 = np.arange(0,6)\n",
    "X2 = np.arange(0,4)\n",
    "\n",
    "p1 = lambda x: poisson(x, 0.2 )#0.12403065)\n",
    "p2 = lambda x: bose( x , lamda = 0.71955125)\n",
    "\n",
    "samples = metropolis_sampler3(p1,p2 , 1000000 , X1,X2,  x0 = 1, x02= 1 )\n",
    "\n",
    "\n",
    "f , ax = plt.subplots(nrows = 1 , ncols = 2, figsize = (12,3))\n",
    "\n",
    "ax[1].hist(df , bins = len(df.unique()), density = True)\n",
    "ax[0].hist(samples , bins = len(np.unique(np.array(samples))), density=True)\n",
    "\n",
    "ax[0].set_title('simulacion distribución Bose: mu=  0.72  y Poisson:lambda 0.2')\n",
    "ax[1].set_title('histograma de datos reales para integración de 25ns')\n",
    "\n"
   ]
  },
  {
   "cell_type": "code",
   "execution_count": null,
   "id": "6bc31e2d",
   "metadata": {},
   "outputs": [],
   "source": []
  }
 ],
 "metadata": {
  "kernelspec": {
   "display_name": "Python 3 (ipykernel)",
   "language": "python",
   "name": "python3"
  },
  "language_info": {
   "codemirror_mode": {
    "name": "ipython",
    "version": 3
   },
   "file_extension": ".py",
   "mimetype": "text/x-python",
   "name": "python",
   "nbconvert_exporter": "python",
   "pygments_lexer": "ipython3",
   "version": "3.9.7"
  }
 },
 "nbformat": 4,
 "nbformat_minor": 5
}
