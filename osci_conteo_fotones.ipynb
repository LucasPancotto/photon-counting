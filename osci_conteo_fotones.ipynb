{
 "cells": [
  {
   "cell_type": "code",
   "execution_count": 1,
   "id": "303fecb4",
   "metadata": {},
   "outputs": [],
   "source": [
    "import time\n",
    "from matplotlib import pyplot as plt\n",
    "import numpy as np\n",
    "import pyvisa as visa\n",
    "import pandas as pd"
   ]
  },
  {
   "cell_type": "code",
   "execution_count": 3,
   "id": "9f2d9733",
   "metadata": {},
   "outputs": [
    {
     "name": "stdout",
     "output_type": "stream",
     "text": [
      "TEKTRONIX,TDS 1002B,C102220,CF:91.1CT FV:v22.11\n",
      "\n"
     ]
    }
   ],
   "source": [
    "rm  = visa.ResourceManager()\n",
    "rm.list_resources()\n",
    "\n",
    "resource_name = 'USB0::0x0699::0x0363::C102220::INSTR'\n",
    "\n",
    "# Creamos ol objeto \"osci\" que nos permite comunicarnos con el instrumento\n",
    "osci= rm.open_resource(resource_name)\n",
    "\n",
    "# Pedimos la identificación del equipo\n",
    "print(osci.query('*IDN?'))\n",
    "\n",
    "# Activo modo de transmision: Binario\n",
    "osci.write('DAT:ENC RPB')\n",
    "osci.write('DAT:WID 1')\n",
    "\n",
    "#decidimos en que canal trabajar \n",
    "canal   = 2 #or 1\n",
    "osci.write(f'DATA:SOU {canal}')"
   ]
  },
  {
   "cell_type": "code",
   "execution_count": 5,
   "id": "93668c52",
   "metadata": {
    "scrolled": true
   },
   "outputs": [
    {
     "name": "stdout",
     "output_type": "stream",
     "text": [
      "TEKTRONIX,TDS 1002B,C102220,CF:91.1CT FV:v22.11\n",
      "\n"
     ]
    }
   ],
   "source": [
    "datos_y = osci.query_binary_values('CURV?', datatype='B', container=np.array)\n",
    "xze, xin, yze, ymu, yoff = osci.query_ascii_values('WFMPRE:XZE?;XIN?;YZE?;YMU?;YOFF?;', separator=';')\n"
   ]
  },
  {
   "cell_type": "markdown",
   "id": "5029e904",
   "metadata": {},
   "source": [
    "# plotting the data from oscilloscope"
   ]
  },
  {
   "cell_type": "code",
   "execution_count": 7,
   "id": "f950b541",
   "metadata": {
    "scrolled": true
   },
   "outputs": [
    {
     "data": {
      "text/plain": [
       "Text(0, 0.5, 'Voltaje [V]')"
      ]
     },
     "execution_count": 7,
     "metadata": {},
     "output_type": "execute_result"
    }
   ],
   "source": [
    "datos_y = osci.query_binary_values('CURV?', datatype='B', container=np.array)\n",
    "\n",
    "volts   = (datos_y-yoff)*ymu+yze;\n",
    "tiempo  = xze + np.arange(len(datos_y)) * xin\n",
    "\n",
    "plt.plot(  tiempo, volts )\n",
    "plt.xlabel('Tiempo [s]' )\n",
    "plt.ylabel('Voltaje [V]')"
   ]
  },
  {
   "cell_type": "markdown",
   "id": "ec9282ff",
   "metadata": {},
   "source": [
    "# transforming the data to pandas dataframe"
   ]
  },
  {
   "cell_type": "code",
   "execution_count": 46,
   "id": "289784ba",
   "metadata": {},
   "outputs": [
    {
     "data": {
      "text/plain": [
       "[<matplotlib.lines.Line2D at 0x2981ee949a0>]"
      ]
     },
     "execution_count": 46,
     "metadata": {},
     "output_type": "execute_result"
    },
    {
     "data": {
      "image/png": "[encoded data removed]",
      "text/plain": [
       "<Figure size 432x288 with 1 Axes>"
      ]
     },
     "metadata": {
      "needs_background": "light"
     },
     "output_type": "display_data"
    }
   ],
   "source": [
    "data = {'t':tiempo , 'v':volts}\n",
    "df = pd.DataFrame(data)\n",
    "df.to_csv('1Mohm_6.0(3)v')\n",
    "plt.plot(df[\"t\"],df[\"v\"])"
   ]
  },
  {
   "cell_type": "markdown",
   "id": "8b533ae8",
   "metadata": {},
   "source": [
    "# measurments of many screens of the oscilloscope"
   ]
  },
  {
   "cell_type": "code",
   "execution_count": null,
   "id": "158f0448",
   "metadata": {},
   "outputs": [],
   "source": [
    "xze, xin, yze, ymu, yoff = osci.query_ascii_values('WFMPRE:XZE?;XIN?;YZE?;YMU?;YOFF?;', separator=';')\n",
    "\n",
    "##########################\n",
    "# ATENCIÓN!              #\n",
    "##########################\n",
    "\n",
    "# cáda vez que cambien las escalas del osciloscopio van a tener que volver\n",
    "# a levantar xze, xin, yze, ymu, yoff  !!!\n",
    "\n",
    "for i in range(0,5000):\n",
    "# Adquiere los datos del canal 1 y los devuelve en un array de numpy\n",
    "    datos_y = osci.query_binary_values('CURV?', datatype='B', container=np.array)\n",
    "\n",
    "    volts   = (datos_y-yoff)*ymu+yze;\n",
    "    tiempo  = xze + np.arange(len(datos_y)) * xin    \n",
    "    \n",
    "    data = {'t':tiempo , 'v':volts} #to dictionary\n",
    "    df = pd.DataFrame(data) #to dataframe\n",
    "    df.to_csv(f'conteo_discoquieto_50ohm_25micros/conteo_1.2v_10micros_{i}.txt' )#to .csv file\n"
   ]
  }
 ],
 "metadata": {
  "kernelspec": {
   "display_name": "Python 3 (ipykernel)",
   "language": "python",
   "name": "python3"
  },
  "language_info": {
   "codemirror_mode": {
    "name": "ipython",
    "version": 3
   },
   "file_extension": ".py",
   "mimetype": "text/x-python",
   "name": "python",
   "nbconvert_exporter": "python",
   "pygments_lexer": "ipython3",
   "version": "3.9.7"
  }
 },
 "nbformat": 4,
 "nbformat_minor": 5
}
